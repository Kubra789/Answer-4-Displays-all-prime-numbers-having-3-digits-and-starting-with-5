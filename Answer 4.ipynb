{
 "cells": [
  {
   "cell_type": "markdown",
   "id": "1fb04bb9",
   "metadata": {},
   "source": [
    "### Answer 4"
   ]
  },
  {
   "cell_type": "markdown",
   "id": "014b0b88",
   "metadata": {},
   "source": [
    "Question:  Displays all prime numbers having 3 digits and starting with 5"
   ]
  },
  {
   "cell_type": "code",
   "execution_count": 13,
   "id": "9741de3b",
   "metadata": {},
   "outputs": [],
   "source": [
    "def get_all_prime_num(alt_sınır,üst_sınır):\n",
    "    '''\n",
    "    alt_sınır: İstenen aralığın ilk değeri\n",
    "    üst_sınır: İstenen aralığın son değeri\n",
    "    \n",
    "    '''\n",
    "    all_prime_num = []\n",
    "    for num in range(alt_sınır, üst_sınır + 1):\n",
    "       if num > 1:\n",
    "           for i in range(2, num):\n",
    "               if (num % i) == 0:\n",
    "                   break\n",
    "           else:\n",
    "               all_prime_num.append(num)\n",
    "    return all_prime_num\n",
    "lst = get_all_prime_num(100, 1000)\n",
    "\n",
    "import math\n",
    "\n",
    "def get_prime_num_startwith_5(lst):\n",
    "    prime_num_startwith_5 = []\n",
    "    other_list=[]\n",
    "    for num in lst:\n",
    "      if  int(num / 10 ** int(math.log10(num)))==5:\n",
    "        prime_num_startwith_5.append(num)\n",
    "      else:\n",
    "        other_list.append(num)\n",
    "\n",
    "    return prime_num_startwith_5\n",
    "\n",
    "lst_2=get_prime_num_startwith_5(lst)"
   ]
  },
  {
   "cell_type": "code",
   "execution_count": 14,
   "id": "ea9634c6",
   "metadata": {},
   "outputs": [
    {
     "data": {
      "text/plain": [
       "[503, 509, 521, 523, 541, 547, 557, 563, 569, 571, 577, 587, 593, 599]"
      ]
     },
     "execution_count": 14,
     "metadata": {},
     "output_type": "execute_result"
    }
   ],
   "source": [
    "lst_2"
   ]
  },
  {
   "cell_type": "code",
   "execution_count": null,
   "id": "e6c3b324",
   "metadata": {},
   "outputs": [],
   "source": []
  }
 ],
 "metadata": {
  "kernelspec": {
   "display_name": "Python 3 (ipykernel)",
   "language": "python",
   "name": "python3"
  },
  "language_info": {
   "codemirror_mode": {
    "name": "ipython",
    "version": 3
   },
   "file_extension": ".py",
   "mimetype": "text/x-python",
   "name": "python",
   "nbconvert_exporter": "python",
   "pygments_lexer": "ipython3",
   "version": "3.9.12"
  }
 },
 "nbformat": 4,
 "nbformat_minor": 5
}
